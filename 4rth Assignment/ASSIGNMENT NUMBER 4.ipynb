{
 "cells": [
  {
   "cell_type": "code",
   "execution_count": 1,
   "id": "b55d6e32",
   "metadata": {},
   "outputs": [
    {
     "name": "stdout",
     "output_type": "stream",
     "text": [
      "Enter the operation you want to choose like addition, subtraction, multiplication, division or power : addition\n",
      "Enter your first number : 5\n",
      "Enter your second number : 4\n",
      "9\n"
     ]
    }
   ],
   "source": [
    "# ANSWER NUMBER 1\n",
    "\n",
    "operator = input(\"Enter the operation you want to choose like addition, subtraction, multiplication, division or power : \" )\n",
    "num1 = int(input(\"Enter your first number : \"))\n",
    "num2 = int(input(\"Enter your second number : \"))\n",
    "if operator == \"addition\":\n",
    "    ans = num1 + num2\n",
    "    print(ans)\n",
    "elif operator == \"subtraction\":\n",
    "    ans = num1 - num2\n",
    "    print(ans)\n",
    "elif operator == \"multiplication\":\n",
    "    ans = num1 * num2\n",
    "    print(ans)\n",
    "elif operator == \"division\":\n",
    "    ans = num1 / num2\n",
    "    print(ans)\n",
    "elif operator == \"power\":\n",
    "    ans = num1 ** num2\n",
    "    print(ans)\n",
    "else:\n",
    "    print(\"You have made a mistake in naming operation correctly\") "
   ]
  },
  {
   "cell_type": "code",
   "execution_count": 2,
   "id": "c97707bc",
   "metadata": {},
   "outputs": [
    {
     "name": "stdout",
     "output_type": "stream",
     "text": [
      "You made some mistake\n",
      "You made some mistake\n",
      "[1, 21, 11]\n"
     ]
    }
   ],
   "source": [
    "# ANSWER NUMBER 2\n",
    "\n",
    "list = [1,\"Ali\",\"Riaz\",21,11]\n",
    "reqAns = []\n",
    "for i in list:\n",
    "    if(isinstance(i, int) and not isinstance(i, str)):\n",
    "        reqAns.append(i)\n",
    "    else:\n",
    "        print(\"You made some mistake\")\n",
    "print(reqAns) "
   ]
  },
  {
   "cell_type": "code",
   "execution_count": 3,
   "id": "9828d67d",
   "metadata": {},
   "outputs": [
    {
     "name": "stdout",
     "output_type": "stream",
     "text": [
      "{'fist_name': 'Syed Riaz'}\n",
      "{'fist_name': 'Syed Riaz', 'last_name': 'Ali'}\n"
     ]
    }
   ],
   "source": [
    "# ANSWER NUMBER 3\n",
    "\n",
    "d = {'fist_name': 'Syed Riaz'}\n",
    "\n",
    "print(d) \n",
    "\n",
    "d['last_name'] = 'Ali'\n",
    "\n",
    "print(d) "
   ]
  },
  {
   "cell_type": "code",
   "execution_count": 4,
   "id": "00e08c35",
   "metadata": {},
   "outputs": [
    {
     "name": "stdout",
     "output_type": "stream",
     "text": [
      "6\n"
     ]
    }
   ],
   "source": [
    "# ANSWER NUMBER 4\n",
    "\n",
    "a_dict = {\"a\":1, \"b\":2, \"c\": 3}\n",
    "values = a_dict.values()\n",
    "\n",
    "total = sum(values)\n",
    "\n",
    "print(total)  "
   ]
  },
  {
   "cell_type": "code",
   "execution_count": 5,
   "id": "6a961e80",
   "metadata": {},
   "outputs": [
    {
     "name": "stdout",
     "output_type": "stream",
     "text": [
      "2 3 4 5 "
     ]
    }
   ],
   "source": [
    "# ANSWER NUMBER 5\n",
    "\n",
    "l=[1,2,3,4,5,2,3,4,7,9,5]\n",
    "l1=[]\n",
    "for i in l:\n",
    "    if i not in l1:\n",
    "        l1.append(i)\n",
    "    else:\n",
    "        print(i,end=' ')"
   ]
  },
  {
   "cell_type": "code",
   "execution_count": 6,
   "id": "19e1ce4d",
   "metadata": {},
   "outputs": [
    {
     "name": "stdout",
     "output_type": "stream",
     "text": [
      "Enter the key you want to find :r\n",
      "Not present in the dictionary\n"
     ]
    }
   ],
   "source": [
    "# ANSWER NUMBER 6\n",
    "\n",
    "key1 = input(\"Enter the key you want to find :\")\n",
    "dict = {'a': 100, 'b':200, 'c':300}\n",
    "\n",
    "if 'key1' in dict:\n",
    "    print(\"Present in the Dictionary\")\n",
    "else:\n",
    "      print(\"Not present in the dictionary\")"
   ]
  },
  {
   "cell_type": "code",
   "execution_count": null,
   "id": "b64792a5",
   "metadata": {},
   "outputs": [],
   "source": []
  }
 ],
 "metadata": {
  "kernelspec": {
   "display_name": "Python 3",
   "language": "python",
   "name": "python3"
  },
  "language_info": {
   "codemirror_mode": {
    "name": "ipython",
    "version": 3
   },
   "file_extension": ".py",
   "mimetype": "text/x-python",
   "name": "python",
   "nbconvert_exporter": "python",
   "pygments_lexer": "ipython3",
   "version": "3.8.8"
  }
 },
 "nbformat": 4,
 "nbformat_minor": 5
}
