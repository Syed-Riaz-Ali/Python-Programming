{
 "cells": [
  {
   "cell_type": "code",
   "execution_count": 1,
   "id": "65d13db9",
   "metadata": {},
   "outputs": [
    {
     "name": "stdout",
     "output_type": "stream",
     "text": [
      "Twinkle, twinkle, little star,\n",
      "         How I wonder what you are!\n",
      "                  Up above the world so high,\n",
      "                  Like a diamond in the sky.\n",
      "Twinkle, twinkle, little star,\n",
      "         How I wonder what you are!\n"
     ]
    }
   ],
   "source": [
    "# Question No. 1\n",
    "# Write a Python program to print the following string in a specific format (see the\n",
    "# output).\n",
    "\n",
    "# Twinkle, twinkle, little star,\n",
    "# How I wonder what you are!\n",
    "# Up above the world so high,\n",
    "# Like a diamond in the sky.\n",
    "\n",
    "# Twinkle, twinkle, little star,\n",
    "# How I wonder what you are\n",
    "\n",
    "print(\"Twinkle, twinkle, little star,\");\n",
    "print(\"         How I wonder what you are!\");\n",
    "print(\"                  Up above the world so high,\");\n",
    "print(\"                  Like a diamond in the sky.\");\n",
    "print(\"Twinkle, twinkle, little star,\");\n",
    "print(\"         How I wonder what you are!\");\n"
   ]
  },
  {
   "cell_type": "code",
   "execution_count": 2,
   "id": "4ab51314",
   "metadata": {},
   "outputs": [
    {
     "name": "stdout",
     "output_type": "stream",
     "text": [
      "Python version\n",
      "3.8.8 (default, Apr 13 2021, 15:08:03) [MSC v.1916 64 bit (AMD64)]\n"
     ]
    }
   ],
   "source": [
    "# Question No. 2\n",
    "# Write a Python program to get the Python version you are using\n",
    "\n",
    "import sys\n",
    "print(\"Python version\")\n",
    "print(sys.version);\n"
   ]
  },
  {
   "cell_type": "code",
   "execution_count": 3,
   "id": "1c4b5199",
   "metadata": {},
   "outputs": [
    {
     "name": "stdout",
     "output_type": "stream",
     "text": [
      "Current date and time : \n",
      "24-10-2021 04:51:36\n"
     ]
    }
   ],
   "source": [
    "# Question No. 3\n",
    "# Write a Python program to display the current date and time.\n",
    "\n",
    "import datetime\n",
    "now = datetime.datetime.now()\n",
    "print (\"Current date and time : \")\n",
    "print (now.strftime(\"%d-%m-%Y %H:%M:%S\"))\n"
   ]
  },
  {
   "cell_type": "code",
   "execution_count": 4,
   "id": "1fdfde51",
   "metadata": {},
   "outputs": [
    {
     "name": "stdout",
     "output_type": "stream",
     "text": [
      "Enter the radius of the circle in meters: 2\n",
      "Area of the circle having radius 2m is found to be 12.568 square meter\n"
     ]
    }
   ],
   "source": [
    "# Question No. 4\n",
    "# Write a Python program which accepts the radius of a circle from the user and compute the area.\n",
    "\n",
    "radius = input(\"Enter the radius of the circle in meters: \");\n",
    "areaOfCircle = 3.142*(int(radius)**2);\n",
    "print(\"Area of the circle having radius \" + str(radius) + \"m is found to be \" + str(areaOfCircle) + \" square meter\");\n"
   ]
  },
  {
   "cell_type": "code",
   "execution_count": 5,
   "id": "0f7f16d3",
   "metadata": {},
   "outputs": [
    {
     "name": "stdout",
     "output_type": "stream",
     "text": [
      "Enter your first name: Syed\n",
      "Enter your last name: Riaz\n",
      "Your name in reverse order should be look like this: Riaz Syed\n"
     ]
    }
   ],
   "source": [
    "# Question No. 5\n",
    "# Write a Python program which accepts the user's first and last name and print them in\n",
    "# reverse order with a space between them.\n",
    "\n",
    "firstName = input(\"Enter your first name: \");\n",
    "lastName = input(\"Enter your last name: \");\n",
    "print(\"Your name in reverse order should be look like this: \" + lastName + \" \" + firstName);\n"
   ]
  },
  {
   "cell_type": "code",
   "execution_count": 6,
   "id": "61c10e2d",
   "metadata": {},
   "outputs": [
    {
     "name": "stdout",
     "output_type": "stream",
     "text": [
      "Enter your birth year: 1997\n",
      "Enter current year: 2021\n",
      "Your age is 24\n"
     ]
    }
   ],
   "source": [
    "# Question No. 6\n",
    "# Write a python program which takes two inputs from user and print them addition\n",
    "\n",
    "birthYear = int(input(\"Enter your birth year: \"));\n",
    "currentYear = int(input(\"Enter current year: \"));\n",
    "print(\"Your age is \" + str(currentYear-birthYear));\n"
   ]
  },
  {
   "cell_type": "code",
   "execution_count": 7,
   "id": "e1db2b22",
   "metadata": {},
   "outputs": [
    {
     "name": "stdout",
     "output_type": "stream",
     "text": [
      "Enter your Maths marks: 98\n",
      "Enter your English marks: 78\n",
      "Enter your Physics marks: 96\n",
      "Enter your chemistry marks: 85\n",
      "Enter your Islamiat marks: 72\n",
      "Total obtained marks:  429\n",
      "Your Percentage% is :  85.8 %\n",
      "Congratulations! You have passed with A-One garde\n"
     ]
    }
   ],
   "source": [
    "# Question No. 7\n",
    "# Write a program which takes 5 inputs from user for different subject’s marks, total it\n",
    "# and generate mark sheet using grades ?\n",
    "\n",
    "maths = int(input(\"Enter your Maths marks: \"));\n",
    "english = int(input(\"Enter your English marks: \"));\n",
    "physics = int(input(\"Enter your Physics marks: \"));\n",
    "chemistry = int(input(\"Enter your chemistry marks: \"));\n",
    "islamiat = int(input(\"Enter your Islamiat marks: \"));\n",
    "\n",
    "total = maths + english + physics + chemistry + islamiat;\n",
    "print(\"Total obtained marks: \", total);\n",
    "\n",
    "percentage = (total/500)*100;\n",
    "print(\"Your Percentage% is : \", percentage , \"%\");\n",
    "\n",
    "if percentage < 100 and percentage > 90:\n",
    "    print(\"Congratulations! You have passed with A++ garde\");\n",
    "elif percentage < 90 and percentage > 80:\n",
    "    print(\"Congratulations! You have passed with A-One garde\");\n",
    "elif percentage < 80 and percentage > 70:\n",
    "    print(\"Congratulations! You have passed with A garde\");\n",
    "elif percentage < 70 and percentage > 60:\n",
    "    print(\"Congratulations! You have passed with B garde\");\n",
    "elif percentage < 60 and percentage > 50:\n",
    "    print(\"Congratulations! You have passed with C garde\");\n",
    "elif percentage < 50 and percentage > 40:\n",
    "    print(\"Congratulations! You have passed with D garde\");\n",
    "elif percentage < 40 and percentage > 33:\n",
    "    print(\"Congratulations! You have passed with E garde\");\n",
    "elif percentage > 100 or percentage < 0:\n",
    "    print(\"You have given us wrong details\");\n",
    "else:\n",
    "    print(\"You have failed... Work hard!\");\n"
   ]
  },
  {
   "cell_type": "code",
   "execution_count": 8,
   "id": "c862e208",
   "metadata": {},
   "outputs": [
    {
     "name": "stdout",
     "output_type": "stream",
     "text": [
      "Enter your number: 5\n",
      "Your number is an odd number\n"
     ]
    }
   ],
   "source": [
    "# Question No. 8\n",
    "# Write a program which take input from user and identify that the given number is even\n",
    "# or odd?\n",
    "\n",
    "num = int(input(\"Enter your number: \"));\n",
    "num = num % 2;\n",
    "if num == 0:\n",
    "    print(\"Your number is an even number\");\n",
    "else:\n",
    "    print(\"Your number is an odd number\")\n"
   ]
  },
  {
   "cell_type": "code",
   "execution_count": 9,
   "id": "1e36e18c",
   "metadata": {},
   "outputs": [
    {
     "name": "stdout",
     "output_type": "stream",
     "text": [
      "9\n"
     ]
    }
   ],
   "source": [
    "# Question No. 9\n",
    "# Write a program which print the length of the list?\n",
    "\n",
    "listOfNum = [1,2,3,4,5,6,7,8,9];\n",
    "lengthOfList = len(listOfNum);\n",
    "print(lengthOfList);"
   ]
  },
  {
   "cell_type": "code",
   "execution_count": 10,
   "id": "451fd05e",
   "metadata": {},
   "outputs": [
    {
     "name": "stdout",
     "output_type": "stream",
     "text": [
      "45\n"
     ]
    }
   ],
   "source": [
    "# Question No. 10\n",
    "# Write a Python program to sum all the numeric items in a list?\n",
    "\n",
    "listOfNum = [1,2,3,4,5,6,7,8,9];\n",
    "totalSum = sum(listOfNum);\n",
    "print(totalSum);"
   ]
  },
  {
   "cell_type": "code",
   "execution_count": 11,
   "id": "d5af008b",
   "metadata": {},
   "outputs": [
    {
     "name": "stdout",
     "output_type": "stream",
     "text": [
      "Largest element is: 99\n"
     ]
    }
   ],
   "source": [
    "# Question No. 11\n",
    "# Write a Python program to get the largest number from a numeric list.\n",
    "\n",
    "list1 = [10, 20, 4, 45, 99];\n",
    "print(\"Largest element is:\", max(list1));"
   ]
  },
  {
   "cell_type": "code",
   "execution_count": 12,
   "id": "012f8ad6",
   "metadata": {},
   "outputs": [
    {
     "name": "stdout",
     "output_type": "stream",
     "text": [
      "[1, 1, 2, 3]\n"
     ]
    }
   ],
   "source": [
    "# Question No. 12\n",
    "# Take a list, say for example this one:\n",
    "# a = [1, 1, 2, 3, 5, 8, 13, 21, 34, 55, 89]\n",
    "# Write a program that prints out all the elements of the list that are less than 5.\n",
    "\n",
    "a = [1, 1, 2, 3, 5, 8, 13, 21, 34, 55, 89]\n",
    "new_list = []\n",
    "for item in a:\n",
    "    if item < 5:\n",
    "        new_list.append(item)\n",
    "print(new_list)\n"
   ]
  },
  {
   "cell_type": "code",
   "execution_count": null,
   "id": "af1e2bc5",
   "metadata": {},
   "outputs": [],
   "source": []
  }
 ],
 "metadata": {
  "kernelspec": {
   "display_name": "Python 3",
   "language": "python",
   "name": "python3"
  },
  "language_info": {
   "codemirror_mode": {
    "name": "ipython",
    "version": 3
   },
   "file_extension": ".py",
   "mimetype": "text/x-python",
   "name": "python",
   "nbconvert_exporter": "python",
   "pygments_lexer": "ipython3",
   "version": "3.8.8"
  }
 },
 "nbformat": 4,
 "nbformat_minor": 5
}
