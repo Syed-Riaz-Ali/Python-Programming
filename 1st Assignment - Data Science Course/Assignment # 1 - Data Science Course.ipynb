{
 "cells": [
  {
   "cell_type": "code",
   "execution_count": 1,
   "id": "7e5f20b2",
   "metadata": {},
   "outputs": [
    {
     "name": "stdout",
     "output_type": "stream",
     "text": [
      "Twinkle, twinkle, little star,\n",
      "         How I wonder what you are!\n",
      "                  Up above the world so high,\n",
      "                  Like a diamond in the sky.\n",
      "Twinkle, twinkle, little star,\n",
      "         How I wonder what you are!\n"
     ]
    }
   ],
   "source": [
    "# Question No. 1\n",
    "# Write a Python program to print the following string in a specific format (see the\n",
    "# output).\n",
    "\n",
    "# Twinkle, twinkle, little star,\n",
    "# How I wonder what you are!\n",
    "# Up above the world so high,\n",
    "# Like a diamond in the sky.\n",
    "\n",
    "# Twinkle, twinkle, little star,\n",
    "# How I wonder what you are\n",
    "\n",
    "print(\"Twinkle, twinkle, little star,\");\n",
    "print(\"         How I wonder what you are!\");\n",
    "print(\"                  Up above the world so high,\");\n",
    "print(\"                  Like a diamond in the sky.\");\n",
    "print(\"Twinkle, twinkle, little star,\");\n",
    "print(\"         How I wonder what you are!\");"
   ]
  },
  {
   "cell_type": "code",
   "execution_count": 2,
   "id": "058df762",
   "metadata": {},
   "outputs": [
    {
     "name": "stdout",
     "output_type": "stream",
     "text": [
      "Python version\n",
      "3.8.8 (default, Apr 13 2021, 15:08:03) [MSC v.1916 64 bit (AMD64)]\n"
     ]
    }
   ],
   "source": [
    "# Question No. 2\n",
    "# Write a Python program to get the Python version you are using\n",
    "\n",
    "import sys\n",
    "print(\"Python version\")\n",
    "print(sys.version);"
   ]
  },
  {
   "cell_type": "code",
   "execution_count": 3,
   "id": "db81ae65",
   "metadata": {},
   "outputs": [
    {
     "name": "stdout",
     "output_type": "stream",
     "text": [
      "Current date and time : \n",
      "01-01-2022 15:47:42\n"
     ]
    }
   ],
   "source": [
    "# Question No. 3\n",
    "# Write a Python program to display the current date and time.\n",
    "\n",
    "import datetime\n",
    "now = datetime.datetime.now()\n",
    "print (\"Current date and time : \")\n",
    "print (now.strftime(\"%d-%m-%Y %H:%M:%S\"))"
   ]
  },
  {
   "cell_type": "code",
   "execution_count": 4,
   "id": "73e9e96b",
   "metadata": {},
   "outputs": [
    {
     "name": "stdout",
     "output_type": "stream",
     "text": [
      "Enter the radius of the circle in meters: 2\n",
      "Area of the circle having radius 2m is found to be 12.568 square meter\n"
     ]
    }
   ],
   "source": [
    "# Question No. 4\n",
    "# Write a Python program which accepts the radius of a circle from the user and compute the area.\n",
    "\n",
    "radius = input(\"Enter the radius of the circle in meters: \");\n",
    "areaOfCircle = 3.142*(int(radius)**2);\n",
    "print(\"Area of the circle having radius \" + str(radius) + \"m is found to be \" + str(areaOfCircle) + \" square meter\");"
   ]
  },
  {
   "cell_type": "code",
   "execution_count": 5,
   "id": "81ee4f87",
   "metadata": {},
   "outputs": [
    {
     "name": "stdout",
     "output_type": "stream",
     "text": [
      "Enter your first name: Riaz\n",
      "Enter your last name: Ali\n",
      "Your name in reverse order should be look like this: Ali Riaz\n"
     ]
    }
   ],
   "source": [
    "# Question No. 5\n",
    "# Write a Python program which accepts the user's first and last name and print them in\n",
    "# reverse order with a space between them.\n",
    "\n",
    "firstName = input(\"Enter your first name: \");\n",
    "lastName = input(\"Enter your last name: \");\n",
    "print(\"Your name in reverse order should be look like this: \" + lastName + \" \" + firstName);"
   ]
  },
  {
   "cell_type": "code",
   "execution_count": 6,
   "id": "c96b7f1a",
   "metadata": {},
   "outputs": [
    {
     "name": "stdout",
     "output_type": "stream",
     "text": [
      "Enter your birth year: 1997\n",
      "Enter current year: 2022\n",
      "Your age is 25\n"
     ]
    }
   ],
   "source": [
    "# Question No. 6\n",
    "# Write a python program which takes two inputs from user and print them addition\n",
    "\n",
    "birthYear = int(input(\"Enter your birth year: \"));\n",
    "currentYear = int(input(\"Enter current year: \"));\n",
    "print(\"Your age is \" + str(currentYear-birthYear));"
   ]
  },
  {
   "cell_type": "code",
   "execution_count": null,
   "id": "55345ae0",
   "metadata": {},
   "outputs": [],
   "source": []
  }
 ],
 "metadata": {
  "kernelspec": {
   "display_name": "Python 3",
   "language": "python",
   "name": "python3"
  },
  "language_info": {
   "codemirror_mode": {
    "name": "ipython",
    "version": 3
   },
   "file_extension": ".py",
   "mimetype": "text/x-python",
   "name": "python",
   "nbconvert_exporter": "python",
   "pygments_lexer": "ipython3",
   "version": "3.8.8"
  }
 },
 "nbformat": 4,
 "nbformat_minor": 5
}
